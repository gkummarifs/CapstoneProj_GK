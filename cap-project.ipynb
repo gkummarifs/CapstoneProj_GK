{
 "cells": [
  {
   "cell_type": "markdown",
   "id": "2935b1fe",
   "metadata": {},
   "source": [
    "Setup"
   ]
  },
  {
   "cell_type": "code",
   "execution_count": null,
   "id": "c6b99655",
   "metadata": {},
   "outputs": [],
   "source": [
    "!pip install pandas matplotlib scikit-learn mlflow"
   ]
  },
  {
   "cell_type": "code",
   "execution_count": null,
   "id": "4eebf4a5",
   "metadata": {},
   "outputs": [],
   "source": [
    "import pandas as pd\n",
    "import os, json"
   ]
  },
  {
   "cell_type": "code",
   "execution_count": null,
   "id": "f181d486",
   "metadata": {},
   "outputs": [],
   "source": [
    "df = pd.read_csv(\"./data/salary.csv\")\n",
    "print(df.head())"
   ]
  },
  {
   "cell_type": "markdown",
   "id": "6247c7ea",
   "metadata": {},
   "source": [
    "EDA"
   ]
  },
  {
   "cell_type": "code",
   "execution_count": null,
   "id": "a5176ba3",
   "metadata": {},
   "outputs": [],
   "source": [
    "import matplotlib.pyplot as plt\n",
    "from pathlib import Path\n",
    "\n",
    "ARTIFACTS_DIR = Path(\"cap_project_assets/artifacts\")\n",
    "eda_dir = ARTIFACTS_DIR / \"eda\"\n",
    "eda_dir.mkdir(parents=True, exist_ok=True)\n",
    "\n",
    "summary = {\n",
    "    \"rows\" : int(df.shape[0]),\n",
    "    \"columns\": list(df.columns),\n",
    "    \"describe\": json.loads(df.describe().to_json())\n",
    "}\n",
    "\n",
    "(eda_dir / \"summary.json\").write_text(json.dumps(summary, indent=2))\n",
    "\n",
    "plt.figure()\n",
    "plt.scatter(df[\"YearsExperience\"], df[\"Salary\"])\n",
    "plt.xlabel(\"Years Experience\")\n",
    "plt.ylabel(\"Salary\")\n",
    "plt.title(\"Salary vs YOE\")\n"
   ]
  },
  {
   "cell_type": "markdown",
   "id": "db419222",
   "metadata": {},
   "source": [
    "Preprocessing of Data"
   ]
  },
  {
   "cell_type": "code",
   "execution_count": null,
   "id": "5b59ec2f",
   "metadata": {},
   "outputs": [],
   "source": [
    "print(summary)"
   ]
  },
  {
   "cell_type": "code",
   "execution_count": null,
   "id": "4461ed40",
   "metadata": {},
   "outputs": [],
   "source": [
    "\n",
    "(eda_dir / \"summary.json\").write_text(json.dumps(summary, indent=2))"
   ]
  },
  {
   "cell_type": "code",
   "execution_count": null,
   "id": "7a845c57",
   "metadata": {},
   "outputs": [],
   "source": [
    "import mlflow\n",
    "\n",
    "mlflow.set_tracking_uri(\"file:./mlruns\")\n",
    "mlflow.set_experiment(\"capstone_project_demo\")\n",
    "\n",
    "with mlflow.start_run(run_name=\"eda\") as run:\n",
    "    import matplotlib.pyplot as plt\n",
    "    plt.figure()\n",
    "    plt.scatter(df[\"YearsExperience\"], df[\"Salary\"])\n",
    "    plt.xlabel(\"Years Experience\")\n",
    "    plt.ylabel(\"Salary\")\n",
    "    plt.title(\"Salary vs YOE\")\n",
    "    scatter_path = eda_dir / \"scatter.png\"#\n",
    "    print(scatter_path)\n",
    "    plt.savefig(scatter_path, bbox_inches=\"tight\")\n",
    "    plt.close()\n",
    "\n",
    "    mlflow.log_artifact(str(eda_dir / \"summary.json\"), artifact_path=\"eda\")\n",
    "    mlflow.log_artifact(str(scatter_path), artifact_path=\"eda\")\n",
    "\n",
    "mlflow.end_run()\n",
    "\n"
   ]
  },
  {
   "cell_type": "code",
   "execution_count": null,
   "id": "8fcdd391",
   "metadata": {},
   "outputs": [],
   "source": [
    "import os\n",
    "from pathlib import Path\n",
    "import pandas as pd\n",
    "import mlflow\n",
    "import mlflow.sklearn\n",
    "from mlflow.models import infer_signature\n",
    "from sklearn.pipeline import Pipeline\n",
    "from sklearn.preprocessing import StandardScaler\n",
    "from sklearn.linear_model import LinearRegression\n",
    "from sklearn.tree import DecisionTreeRegressor\n",
    "from sklearn.ensemble import RandomForestRegressor\n",
    "from sklearn.model_selection import train_test_split\n",
    "from sklearn.metrics import mean_absolute_error, mean_squared_error, r2_score\n",
    "\n",
    "MLFLOW_TRACKING_URI = os.getenv(\"MLFLOW_TRACKING_URI\", \"file:./mlruns\")\n",
    "MLFLOW_EXPERIMENT_NAME = os.getenv(\"MLFLOW_EXPERIMENT_NAME\", \"salary-regression\")\n",
    "DATA_PATH = os.getenv(\"DATA_PATH\", \"data/salary.csv\")\n",
    "TEST_SIZE = float(os.getenv(\"TEST_SIZE\", \"0.2\"))\n",
    "RANDOM_STATE = int(os.getenv(\"RANDOM_STATE\", \"42\"))\n",
    "REGISTER = os.getenv(\"REGISTER_MODEL\", \"false\").lower() == \"true\"\n",
    "REGISTERED_NAME = os.getenv(\"REGISTERED_MODEL_NAME\", \"salary-model\")\n",
    "\n",
    "def eval_split(model, Xs, ys, prefix=\"test\"):\n",
    "    preds = model.predict(Xs)\n",
    "    mae = mean_absolute_error(ys, preds)\n",
    "    rmse = mean_squared_error(ys, preds)\n",
    "    r2 = r2_score(ys, preds)\n",
    "    mlflow.log_metrics({f\"{prefix}_mae\": mae, f\"{prefix}_rmse\": rmse, f\"{prefix}_r2\": r2})\n",
    "    return {\"mae\": mae, \"rmse\": rmse, \"r2\": r2}\n",
    "\n",
    "def train_and_log(name, model, X_train, X_test, y_train, y_test):\n",
    "    with mlflow.start_run(run_name=f\"train-{name}\") as run:\n",
    "        mlflow.log_params({\"model_name\": name, \"test_size\": TEST_SIZE, \"random_state\": RANDOM_STATE})\n",
    "        if hasattr(model, \"get_params\"):\n",
    "            params = model.get_params()\n",
    "            # keep the most relevant params to avoid huge logs\n",
    "            keep = {\"n_estimators\",\"max_depth\",\"min_samples_split\",\"min_samples_leaf\",\"random_state\",\"criterion\"}\n",
    "            small = {k:v for k,v in params.items() if k in keep}\n",
    "            if small:\n",
    "                mlflow.log_params({f\"hp_{k}\": v for k, v in small.items()})\n",
    "\n",
    "        model.fit(X_train, y_train)\n",
    "        _ = eval_split(model, X_train, y_train, \"train\")\n",
    "        test_metrics = eval_split(model, X_test, y_test, \"test\")\n",
    "\n",
    "        signature = infer_signature(X_train, model.predict(X_train))\n",
    "        input_example = X_train.head(3)\n",
    "        logged = mlflow.sklearn.log_model(\n",
    "            sk_model=model,\n",
    "            artifact_path=f\"model_{name}\",\n",
    "            signature=signature,\n",
    "            input_example=input_example,\n",
    "            registered_model_name=(REGISTERED_NAME if REGISTER else None)\n",
    "        )\n",
    "        return {\n",
    "            \"name\": name,\n",
    "            \"run_id\": run.info.run_id,\n",
    "            \"model_uri\": logged.model_uri,\n",
    "            \"metrics\": test_metrics\n",
    "        }\n",
    "\n",
    "def main():\n",
    "    mlflow.set_tracking_uri(MLFLOW_TRACKING_URI)\n",
    "    mlflow.set_experiment(MLFLOW_EXPERIMENT_NAME)\n",
    "\n",
    "    df = pd.read_csv(DATA_PATH)\n",
    "    X = df[[\"YearsExperience\"]]\n",
    "    y = df[\"Salary\"]\n",
    "    X_train, X_test, y_train, y_test = train_test_split(X, y, test_size=TEST_SIZE, random_state=RANDOM_STATE)\n",
    "\n",
    "    models = {\n",
    "        \"linear\": Pipeline([(\"scaler\", StandardScaler()), (\"regressor\", LinearRegression())]),\n",
    "        \"decision_tree\": DecisionTreeRegressor(random_state=RANDOM_STATE),\n",
    "        \"random_forest\": RandomForestRegressor(n_estimators=200, random_state=RANDOM_STATE),\n",
    "    }\n",
    "\n",
    "    results = []\n",
    "    for name, mdl in models.items():\n",
    "        results.append(train_and_log(name, mdl, X_train, X_test, y_train, y_test))\n",
    "\n",
    "    best = sorted(results, key=lambda r: r[\"metrics\"][\"rmse\"])[0]\n",
    "\n",
    "    with mlflow.start_run(run_name=f\"select-best-{best['name']}\") as run:\n",
    "        mlflow.log_params({\"selected_model\": best[\"name\"]})\n",
    "        best_model = mlflow.sklearn.load_model(best[\"model_uri\"])\n",
    "        out_dir = Path(\"artifacts/model\")\n",
    "        out_dir.parent.mkdir(parents=True, exist_ok=True)\n",
    "        mlflow.sklearn.save_model(best_model, path=str(out_dir))\n",
    "        mlflow.sklearn.log_model(\n",
    "            sk_model=best_model,\n",
    "            artifact_path=\"model_best\",\n",
    "            signature=infer_signature(X_train, best_model.predict(X_train)),\n",
    "            input_example=X_train.head(3),\n",
    "            registered_model_name=(REGISTERED_NAME if REGISTER else None)\n",
    "        )\n",
    "        print(\"BEST:\", best)\n",
    "        print(\"Saved best model to:\", out_dir)\n",
    "        print(\"Logged best model at artifact path: model_best\")\n",
    "\n",
    "if __name__ == \"__main__\":\n",
    "    main()\n",
    "\n",
    "mlflow.end_run()"
   ]
  }
 ],
 "metadata": {
  "kernelspec": {
   "display_name": ".venv (3.11.9)",
   "language": "python",
   "name": "python3"
  },
  "language_info": {
   "codemirror_mode": {
    "name": "ipython",
    "version": 3
   },
   "file_extension": ".py",
   "mimetype": "text/x-python",
   "name": "python",
   "nbconvert_exporter": "python",
   "pygments_lexer": "ipython3",
   "version": "3.11.9"
  }
 },
 "nbformat": 4,
 "nbformat_minor": 5
}
